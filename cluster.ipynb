{
 "cells": [
  {
   "cell_type": "code",
   "execution_count": 25,
   "metadata": {},
   "outputs": [],
   "source": [
    "import pandas as pd\n",
    "import matplotlib.pyplot as plt\n",
    "from sklearn.cluster import DBSCAN\n",
    "import numpy as np\n",
    "import os\n",
    "import shutil"
   ]
  },
  {
   "cell_type": "code",
   "execution_count": 2,
   "metadata": {},
   "outputs": [
    {
     "data": {
      "text/html": [
       "<div>\n",
       "<style scoped>\n",
       "    .dataframe tbody tr th:only-of-type {\n",
       "        vertical-align: middle;\n",
       "    }\n",
       "\n",
       "    .dataframe tbody tr th {\n",
       "        vertical-align: top;\n",
       "    }\n",
       "\n",
       "    .dataframe thead th {\n",
       "        text-align: right;\n",
       "    }\n",
       "</style>\n",
       "<table border=\"1\" class=\"dataframe\">\n",
       "  <thead>\n",
       "    <tr style=\"text-align: right;\">\n",
       "      <th></th>\n",
       "      <th>Latitude</th>\n",
       "      <th>Longitude</th>\n",
       "      <th>type</th>\n",
       "    </tr>\n",
       "  </thead>\n",
       "  <tbody>\n",
       "    <tr>\n",
       "      <th>0</th>\n",
       "      <td>22.745049</td>\n",
       "      <td>75.892471</td>\n",
       "      <td>S</td>\n",
       "    </tr>\n",
       "    <tr>\n",
       "      <th>1</th>\n",
       "      <td>12.913041</td>\n",
       "      <td>77.683237</td>\n",
       "      <td>S</td>\n",
       "    </tr>\n",
       "    <tr>\n",
       "      <th>2</th>\n",
       "      <td>12.914264</td>\n",
       "      <td>77.678400</td>\n",
       "      <td>S</td>\n",
       "    </tr>\n",
       "    <tr>\n",
       "      <th>3</th>\n",
       "      <td>11.003669</td>\n",
       "      <td>76.976494</td>\n",
       "      <td>S</td>\n",
       "    </tr>\n",
       "    <tr>\n",
       "      <th>4</th>\n",
       "      <td>12.972793</td>\n",
       "      <td>80.249982</td>\n",
       "      <td>S</td>\n",
       "    </tr>\n",
       "    <tr>\n",
       "      <th>...</th>\n",
       "      <td>...</td>\n",
       "      <td>...</td>\n",
       "      <td>...</td>\n",
       "    </tr>\n",
       "    <tr>\n",
       "      <th>4351</th>\n",
       "      <td>25.540377</td>\n",
       "      <td>81.924236</td>\n",
       "      <td>D</td>\n",
       "    </tr>\n",
       "    <tr>\n",
       "      <th>4352</th>\n",
       "      <td>23.308998</td>\n",
       "      <td>77.463573</td>\n",
       "      <td>D</td>\n",
       "    </tr>\n",
       "    <tr>\n",
       "      <th>4353</th>\n",
       "      <td>30.940184</td>\n",
       "      <td>75.879615</td>\n",
       "      <td>D</td>\n",
       "    </tr>\n",
       "    <tr>\n",
       "      <th>4354</th>\n",
       "      <td>30.982872</td>\n",
       "      <td>75.906808</td>\n",
       "      <td>D</td>\n",
       "    </tr>\n",
       "    <tr>\n",
       "      <th>4355</th>\n",
       "      <td>15.636205</td>\n",
       "      <td>73.896668</td>\n",
       "      <td>D</td>\n",
       "    </tr>\n",
       "  </tbody>\n",
       "</table>\n",
       "<p>4744 rows × 3 columns</p>\n",
       "</div>"
      ],
      "text/plain": [
       "       Latitude  Longitude type\n",
       "0     22.745049  75.892471    S\n",
       "1     12.913041  77.683237    S\n",
       "2     12.914264  77.678400    S\n",
       "3     11.003669  76.976494    S\n",
       "4     12.972793  80.249982    S\n",
       "...         ...        ...  ...\n",
       "4351  25.540377  81.924236    D\n",
       "4352  23.308998  77.463573    D\n",
       "4353  30.940184  75.879615    D\n",
       "4354  30.982872  75.906808    D\n",
       "4355  15.636205  73.896668    D\n",
       "\n",
       "[4744 rows x 3 columns]"
      ]
     },
     "execution_count": 2,
     "metadata": {},
     "output_type": "execute_result"
    }
   ],
   "source": [
    "stores_pd = pd.read_csv('real_distances/unique_stores.csv')\n",
    "stores_pd['type'] = 'S'\n",
    "drops_pd = pd.read_csv('real_distances/unique_drops.csv')\n",
    "drops_pd['type'] = 'D'\n",
    "info_pd = pd.concat([stores_pd, drops_pd])\n",
    "info_pd"
   ]
  },
  {
   "cell_type": "code",
   "execution_count": 3,
   "metadata": {},
   "outputs": [],
   "source": [
    "def filter_for_label(matrix, labels, i):\n",
    "    return matrix[np.where(labels == i), :][0]"
   ]
  },
  {
   "cell_type": "code",
   "execution_count": 4,
   "metadata": {},
   "outputs": [],
   "source": [
    "X = info_pd[['Latitude', 'Longitude']].to_numpy()\n",
    "dbscan = DBSCAN(eps=.1, min_samples=5)\n",
    "labels = dbscan.fit_predict(X)"
   ]
  },
  {
   "cell_type": "code",
   "execution_count": 5,
   "metadata": {},
   "outputs": [
    {
     "data": {
      "image/png": "[encoded data removed]",
      "text/plain": [
       "<Figure size 640x480 with 1 Axes>"
      ]
     },
     "metadata": {},
     "output_type": "display_data"
    },
    {
     "name": "stdout",
     "output_type": "stream",
     "text": [
      "24\n",
      "{0, 1, 2, 3, 4, 5, 6, 7, 8, 9, 10, 11, 12, 13, 14, 15, 16, 17, 18, 19, 20, 21, 22, 23}\n"
     ]
    }
   ],
   "source": [
    "plt.scatter(X[:, 0], X[:, 1], c=labels, cmap='plasma', marker='o', edgecolor='none')\n",
    "plt.title(\"DBSCAN Clustering Without Specified Number of Clusters\")\n",
    "plt.xlabel(\"Latitude\")\n",
    "plt.ylabel(\"Longitude\")\n",
    "plt.show()\n",
    "print(len(set(labels)))\n",
    "print(set(labels))"
   ]
  },
  {
   "cell_type": "code",
   "execution_count": 20,
   "metadata": {},
   "outputs": [
    {
     "name": "stdout",
     "output_type": "stream",
     "text": [
      "Cluster #0: Demand 220. Stores: 20\n",
      "Cluster #1: Demand 220. Stores: 20\n",
      "Cluster #2: Demand 220. Stores: 20\n",
      "Cluster #3: Demand 220. Stores: 20\n",
      "Cluster #4: Demand 220. Stores: 20\n",
      "Cluster #5: Demand 176. Stores: 16\n",
      "Cluster #6: Demand 209. Stores: 19\n",
      "Cluster #7: Demand 155. Stores: 13\n",
      "Cluster #8: Demand 219. Stores: 20\n",
      "Cluster #9: Demand 220. Stores: 20\n",
      "Cluster #10: Demand 215. Stores: 18\n",
      "Cluster #11: Demand 216. Stores: 18\n",
      "Cluster #12: Demand 220. Stores: 20\n",
      "Cluster #13: Demand 220. Stores: 20\n",
      "Cluster #14: Demand 240. Stores: 20\n",
      "Cluster #15: Demand 220. Stores: 20\n",
      "Cluster #16: Demand 164. Stores: 15\n",
      "Cluster #17: Demand 144. Stores: 12\n",
      "Cluster #18: Demand 178. Stores: 15\n",
      "Cluster #19: Demand 110. Stores: 10\n",
      "Cluster #20: Demand 174. Stores: 16\n",
      "Cluster #21: Demand 154. Stores: 14\n",
      "Cluster #22: Demand 11. Stores: 1\n",
      "Cluster #23: Demand 11. Stores: 1\n"
     ]
    }
   ],
   "source": [
    "for i in set(labels):\n",
    "    count = info_pd.iloc[labels == i]['type'].value_counts()\n",
    "    demand, store = count['D'], count['S']\n",
    "    print(f\"Cluster #{i}: Demand {demand}. Stores: {store}\")"
   ]
  },
  {
   "cell_type": "code",
   "execution_count": 37,
   "metadata": {},
   "outputs": [],
   "source": [
    "shutil.rmtree('clusters')\n",
    "os.mkdir('clusters')\n",
    "\n",
    "for i in set(labels):\n",
    "    folder_name = f'clusters/{i}'\n",
    "    os.mkdir(folder_name)\n",
    "    filtered = info_pd.iloc[labels == i]\n",
    "    filtered_d = filtered[filtered['type'] == 'D']\n",
    "    filtered_s = filtered[filtered['type'] == 'S']\n",
    "\n",
    "    new_df_demand = info_pd.iloc[filtered_d.index].reset_index()[['Latitude', 'Longitude']]\n",
    "    new_df_stores = info_pd.iloc[filtered_s.index].reset_index()[['Latitude', 'Longitude']]\n",
    "\n",
    "    new_df_demand.to_csv(f'{folder_name}/demand')\n",
    "    new_df_stores.to_csv(f'{folder_name}/stores')\n"
   ]
  },
  {
   "cell_type": "code",
   "execution_count": null,
   "metadata": {},
   "outputs": [],
   "source": []
  }
 ],
 "metadata": {
  "kernelspec": {
   "display_name": "Python 3",
   "language": "python",
   "name": "python3"
  },
  "language_info": {
   "codemirror_mode": {
    "name": "ipython",
    "version": 3
   },
   "file_extension": ".py",
   "mimetype": "text/x-python",
   "name": "python",
   "nbconvert_exporter": "python",
   "pygments_lexer": "ipython3",
   "version": "3.11.1"
  }
 },
 "nbformat": 4,
 "nbformat_minor": 2
}
