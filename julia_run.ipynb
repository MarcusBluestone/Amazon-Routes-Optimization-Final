{
 "cells": [
  {
   "cell_type": "markdown",
   "metadata": {},
   "source": [
    "# RUN IN JULIA"
   ]
  },
  {
   "cell_type": "markdown",
   "metadata": {},
   "source": [
    "Things I did:\n",
    "1. Add new flow constraint such that in = out for each truck, demand location\n",
    "2. Add MTZ constraints to avoid cycles within demand locations"
   ]
  },
  {
   "cell_type": "code",
   "execution_count": 1,
   "metadata": {},
   "outputs": [],
   "source": [
    "# import Pkg\n",
    "# Pkg.add(\"HDF5\")"
   ]
  },
  {
   "cell_type": "code",
   "execution_count": 2,
   "metadata": {},
   "outputs": [],
   "source": [
    "using JuMP\n",
    "using Gurobi\n",
    "using CSV\n",
    "using DataFrames\n",
    "using HDF5\n"
   ]
  },
  {
   "cell_type": "code",
   "execution_count": 3,
   "metadata": {},
   "outputs": [
    {
     "name": "stdout",
     "output_type": "stream",
     "text": [
      "M: 85\n",
      "N: 15\n"
     ]
    }
   ],
   "source": [
    "Tx = CSV.read(\"inputs/Tx.csv\", DataFrame, drop=1:1) |> Matrix #N, N\n",
    "Ty = CSV.read(\"inputs/Ty.csv\",DataFrame, drop=1:1)|> Matrix; #M, N\n",
    "Tz = CSV.read(\"inputs/Tz.csv\",DataFrame, drop=1:1)|> Matrix; #N, M\n",
    "\n",
    "M,N = size(Ty)\n",
    "Cf = 0.1\n",
    "Cw = 0\n",
    "Ct = 3\n",
    "alpha = 0.5\n",
    "println(\"M: \", M)\n",
    "println(\"N: \", N)"
   ]
  },
  {
   "cell_type": "code",
   "execution_count": 4,
   "metadata": {},
   "outputs": [
    {
     "name": "stdout",
     "output_type": "stream",
     "text": [
      "Set parameter Username\n",
      "Academic license - for non-commercial use only - expires 2025-09-05\n",
      "Set parameter TimeLimit to value 120\n"
     ]
    }
   ],
   "source": [
    "model = Model(Gurobi.Optimizer)\n",
    "set_optimizer_attribute(model, \"TimeLimit\", 120)\n",
    "\n",
    "@variable(model, o[1:M], Bin)\n",
    "@variable(model, x[1:N, 1:N, 1:N], Bin)\n",
    "@variable(model, y[1:N, 1:M, 1:N], Bin)\n",
    "@variable(model, z[1:N, 1:N, 1:M], Bin)\n",
    "@variable(model, f[1:N] >= 0)\n",
    "@variable(model, u[1:N, 1:N]) #k, j\n",
    "@variable(model, L >= 0)\n",
    "\n",
    "@objective(model, Min, alpha*(Cf*sum(o[i] for i in 1:M) + \n",
    "Ct * sum(y[k, i, j] for k in 1:N, i in 1:M, j in 1:N) + \n",
    "Cw * sum(sum(y[k,i,j]*Ty[i,j] + z[k,j,i]*Tz[j,i] for i in 1:M, j in 1:N) + sum(x[k, j1, j2] * Tx[j1, j2] for j1 in 1:N, j2 in 1:N) for k in 1:N)) +\n",
    "(1 - alpha) * L)\n",
    "\n",
    "\n",
    "#MTZ Constraitns\n",
    "for k in 1:N\n",
    "    for j in 1:N\n",
    "        @constraint(model, u[k, j] <= N)\n",
    "        @constraint(model, u[k, j] >= 1)\n",
    "    end\n",
    "end\n",
    "\n",
    "#(MTZ) Between Demand Locations\n",
    "for j1 in 1:N #loc 1\n",
    "    for j2 in 1:N #loc 2\n",
    "        if j1 != j2\n",
    "            for k in 1:N\n",
    "                @constraint(model, u[k, j2] - u[k, j1] >= 1 - N*(1-x[k,j1,j2]))\n",
    "                #@constraint(model, u[k, j1] - u[k, j2] + N*x[k,j1,j2] <= N - 1)\n",
    "            end\n",
    "        end\n",
    "    end\n",
    "end\n",
    "\n",
    "# Optional additional constriant\n",
    "for j in 1:N\n",
    "    for k in 1:N\n",
    "        @constraint(model, x[k,j,j] == 0)\n",
    "    end\n",
    "end\n",
    "# end additional constraint\n",
    "\n",
    "for k in 1:N\n",
    "    @constraint(model, sum(y[k,i,j] for i in 1:M, j in 1:N) <= 1)\n",
    "end\n",
    "\n",
    "for k in 1:N\n",
    "    @constraint(model, sum(x[k,j1,j2] for j1 in 1:N, j2 in 1:N) <= (N - 1) * sum(y[k,i,j] for i in 1:M, j in 1:N))\n",
    "end\n",
    "\n",
    "for i in 1:M\n",
    "    @constraint(model, sum(y[k,i,j] for k in 1:N, j in 1:N) <= N * o[i])\n",
    "end\n",
    "\n",
    "for k in 1:N\n",
    "    for i in 1:M\n",
    "        @constraint(model, sum(z[k,j,i] for j in 1:N) == sum(y[k,i,j] for j in 1:N))\n",
    "    end\n",
    "end\n",
    "\n",
    "#FLOW CONSTRAINTS\n",
    "#SUM\n",
    "for j2 in 1:N \n",
    "        @constraint(model, sum(sum(y[k,i,j2] for i in 1:M) + sum(x[k,j1,j2] for j1 in 1:N) for k in 1:N) == 1)\n",
    "end \n",
    "\n",
    "for j1 in 1:N \n",
    "        @constraint(model, sum(sum(x[k,j1,j2] for j2 in 1:N) + sum(z[k,j1,i] for i in 1:M) for k in 1:N) == 1)\n",
    "end \n",
    "\n",
    "for j in 1:N\n",
    "    for k in 1:N\n",
    "        @constraint(model, sum(y[k,i,j] for i in 1:M) + sum(x[k,j1,j] for j1 in 1:N)  == \n",
    "        sum(x[k,j,j2] for j2 in 1:N) + sum(z[k,j,i] for i in 1:M) )\n",
    "    end\n",
    "end\n",
    "\n",
    "\n",
    "# Now time constraints\n",
    "for k in 1:N \n",
    "    @constraint(model, f[k] == sum(y[k,i,j] * Ty[i,j] for i in 1:M, j in 1:N) + sum(x[k,j1,j2] * Tx[j1,j2] for j1 in 1:N, j2 in 1:N))\n",
    "end\n",
    "\n",
    "for k in 1:N \n",
    "    @constraint(model, f[k] <= L)\n",
    "end"
   ]
  },
  {
   "cell_type": "code",
   "execution_count": 5,
   "metadata": {},
   "outputs": [
    {
     "name": "stdout",
     "output_type": "stream",
     "text": [
      "Set parameter TimeLimit to value 120\n",
      "Gurobi Optimizer version 11.0.2 build v11.0.2rc0 (mac64[arm] - Darwin 23.6.0 23G93)\n",
      "\n",
      "CPU model: Apple M1\n",
      "Thread count: 8 physical cores, 8 logical processors, using up to 8 threads\n",
      "\n",
      "Optimize a model with 5500 rows, 41951 columns and 221080 nonzeros\n",
      "Model fingerprint: 0xfd2dccb8\n",
      "Variable types: 241 continuous, 41710 integer (41710 binary)\n",
      "Coefficient statistics:\n",
      "  Matrix range     [1e+00, 2e+01]\n",
      "  Objective range  [5e-02, 2e+00]\n",
      "  Bounds range     [0e+00, 0e+00]\n",
      "  RHS range        [1e+00, 2e+01]\n",
      "Presolve removed 690 rows and 225 columns\n",
      "Presolve time: 0.17s\n",
      "Presolved: 4810 rows, 41726 columns, 200605 nonzeros\n",
      "Variable types: 225 continuous, 41501 integer (41500 binary)\n",
      "Found heuristic solution: objective 30.5500000\n",
      "Found heuristic solution: objective 23.6500000\n",
      "Deterministic concurrent LP optimizer: primal and dual simplex\n",
      "Showing primal log only...\n",
      "\n",
      "Concurrent spin time: 0.00s\n",
      "\n",
      "Solved with primal simplex\n",
      "\n",
      "Use crossover to convert LP symmetric solution to basic solution...\n",
      "\n",
      "Root relaxation: objective 2.470000e+00, 1310 iterations, 0.05 seconds (0.12 work units)\n",
      "\n",
      "    Nodes    |    Current Node    |     Objective Bounds      |     Work\n",
      " Expl Unexpl |  Obj  Depth IntInf | Incumbent    BestBd   Gap | It/Node Time\n",
      "\n",
      "     0     0    2.47000    0   94   23.65000    2.47000  89.6%     -    0s\n",
      "H    0     0                      23.3500000    2.47000  89.4%     -    0s\n",
      "H    0     0                      17.0500000    2.47000  85.5%     -    1s\n",
      "H    0     0                      16.5500000    2.47000  85.1%     -    1s\n",
      "     0     0    2.47000    0  129   16.55000    2.47000  85.1%     -    3s\n",
      "H    0     0                       9.6500000    2.47000  74.4%     -    6s\n",
      "     0     0    2.51667    0  129    9.65000    2.51667  73.9%     -    6s\n",
      "     0     0    2.53305    0  122    9.65000    2.53305  73.8%     -    7s\n",
      "H    0     0                       9.6000000    2.53305  73.6%     -    7s\n",
      "     0     0    2.74124    0  143    9.60000    2.74124  71.4%     -    8s\n",
      "     0     0    3.16542    0  205    9.60000    3.16542  67.0%     -    9s\n",
      "     0     0    3.23355    0  235    9.60000    3.23355  66.3%     -   10s\n",
      "     0     0    3.27807    0  239    9.60000    3.27807  65.9%     -   11s\n",
      "     0     0    3.27807    0  222    9.60000    3.27807  65.9%     -   12s\n",
      "     0     0    3.27807    0  244    9.60000    3.27807  65.9%     -   14s\n",
      "     0     0    3.31800    0  220    9.60000    3.31800  65.4%     -   16s\n",
      "     0     0    3.34339    0  225    9.60000    3.34339  65.2%     -   17s\n",
      "     0     0    3.34339    0  239    9.60000    3.34339  65.2%     -   17s\n",
      "     0     0    3.36204    0  258    9.60000    3.36204  65.0%     -   20s\n",
      "     0     0    3.41240    0  263    9.60000    3.41240  64.5%     -   21s\n",
      "     0     0    3.41860    0  256    9.60000    3.41860  64.4%     -   21s\n",
      "     0     0    3.41860    0  258    9.60000    3.41860  64.4%     -   22s\n",
      "     0     0    3.42479    0  249    9.60000    3.42479  64.3%     -   23s\n",
      "     0     0    3.43098    0  270    9.60000    3.43098  64.3%     -   26s\n",
      "     0     0    3.43098    0  311    9.60000    3.43098  64.3%     -   27s\n",
      "     0     0    3.43716    0  312    9.60000    3.43716  64.2%     -   28s\n",
      "     0     0    3.43716    0  274    9.60000    3.43716  64.2%     -   29s\n",
      "     0     0    3.43716    0  274    9.60000    3.43716  64.2%     -   31s\n",
      "     0     0    3.48278    0  247    9.60000    3.48278  63.7%     -   32s\n",
      "     0     0    3.53113    0  299    9.60000    3.53113  63.2%     -   33s\n",
      "     0     0    3.55285    0  254    9.60000    3.55285  63.0%     -   34s\n",
      "     0     0    3.55285    0  287    9.60000    3.55285  63.0%     -   34s\n",
      "     0     0    3.55285    0  169    9.60000    3.55285  63.0%     -   37s\n",
      "     0     0    3.55977    0  215    9.60000    3.55977  62.9%     -   54s\n",
      "     0     0    3.55977    0  247    9.60000    3.55977  62.9%     -   55s\n",
      "     0     0    3.56013    0  246    9.60000    3.56013  62.9%     -   56s\n",
      "     0     0    3.61271    0  276    9.60000    3.61271  62.4%     -   61s\n",
      "     0     0    3.64838    0  255    9.60000    3.64838  62.0%     -   61s\n",
      "     0     0    3.67181    0  265    9.60000    3.67181  61.8%     -   62s\n",
      "     0     0    3.67181    0  286    9.60000    3.67181  61.8%     -   62s\n",
      "     0     0    3.69496    0  290    9.60000    3.69496  61.5%     -   63s\n",
      "     0     0    3.70119    0  285    9.60000    3.70119  61.4%     -   63s\n",
      "     0     0    3.70119    0  289    9.60000    3.70119  61.4%     -   63s\n",
      "     0     0    3.70119    0  276    9.60000    3.70119  61.4%     -   64s\n",
      "     0     0    3.70119    0  278    9.60000    3.70119  61.4%     -   64s\n",
      "     0     0    3.70119    0  284    9.60000    3.70119  61.4%     -   65s\n",
      "     0     0    3.70119    0  164    9.60000    3.70119  61.4%     -   66s\n",
      "     0     2    3.70723    0  127    9.60000    3.70723  61.4%     -   71s\n",
      "     7    10    7.60778    3  165    9.60000    4.90714  48.9%  1872   75s\n",
      "    37    26    6.08737    6  194    9.60000    6.08737  36.6%  1029   80s\n",
      "    65    38    6.12143    8  257    9.60000    6.08905  36.6%   858   85s\n",
      "   125    83    6.10000   16  211    9.60000    6.10000  36.5%   716   90s\n",
      "   184   126    6.15218   20  167    9.60000    6.10000  36.5%   689   95s\n",
      "   270   201    6.69080   25   90    9.60000    6.10000  36.5%   667  100s\n",
      "   435   357    8.44067   31   74    9.60000    6.10000  36.5%   628  105s\n",
      "   792   701    9.17663   78   41    9.60000    6.10000  36.5%   429  110s\n",
      "  1193   888    6.10000   11  205    9.60000    6.10000  36.5%   338  116s\n",
      "  1279   966    7.01900   22   81    9.60000    6.10000  36.5%   355  120s\n",
      "\n",
      "Cutting planes:\n",
      "  Learned: 10\n",
      "  Gomory: 2\n",
      "  Cover: 96\n",
      "  Implied bound: 190\n",
      "  Clique: 190\n",
      "  MIR: 77\n",
      "  GUB cover: 8\n",
      "  Zero half: 1\n",
      "  RLT: 446\n",
      "  Relax-and-lift: 8\n",
      "  BQP: 52\n",
      "  PSD: 5\n",
      "\n",
      "Explored 1318 nodes (559807 simplex iterations) in 120.03 seconds (242.27 work units)\n",
      "Thread count was 8 (of 8 available processors)\n",
      "\n",
      "Solution count 7: 9.6 9.65 16.55 ... 30.55\n",
      "\n",
      "Time limit reached\n",
      "Best objective 9.600000000000e+00, best bound 6.100000000000e+00, gap 36.4583%\n",
      "\n",
      "User-callback calls 33620, time in user-callback 0.04 sec\n"
     ]
    }
   ],
   "source": [
    "optimize!(model)"
   ]
  },
  {
   "cell_type": "code",
   "execution_count": 6,
   "metadata": {},
   "outputs": [],
   "source": [
    "try\n",
    "    rm(\"results/output.h5\")\n",
    "catch\n",
    "    1\n",
    "end\n",
    "h5write(\"results/output.h5\", \"factories\", value.(o))\n",
    "h5write(\"results/output.h5\", \"x_edges\", value.(x))\n",
    "h5write(\"results/output.h5\", \"y_edges\", value.(y))\n",
    "h5write(\"results/output.h5\", \"z_edges\", value.(z))\n"
   ]
  },
  {
   "cell_type": "code",
   "execution_count": 7,
   "metadata": {},
   "outputs": [
    {
     "name": "stdout",
     "output_type": "stream",
     "text": [
      "(15, 15, 15)"
     ]
    },
    {
     "data": {
      "text/plain": [
       "85-element Vector{Float64}:\n",
       "  0.0\n",
       "  0.0\n",
       "  0.0\n",
       "  1.0\n",
       "  0.0\n",
       "  0.0\n",
       "  0.0\n",
       "  0.0\n",
       "  0.0\n",
       "  0.0\n",
       "  0.0\n",
       "  0.0\n",
       "  0.0\n",
       "  ⋮\n",
       "  0.0\n",
       " -0.0\n",
       " -0.0\n",
       " -0.0\n",
       "  0.0\n",
       "  0.0\n",
       "  0.0\n",
       "  0.0\n",
       "  0.0\n",
       "  0.0\n",
       "  0.0\n",
       "  0.0"
      ]
     },
     "execution_count": 7,
     "metadata": {},
     "output_type": "execute_result"
    }
   ],
   "source": [
    "print(size(value.(x)))\n",
    "value.(o)"
   ]
  },
  {
   "cell_type": "code",
   "execution_count": 8,
   "metadata": {},
   "outputs": [
    {
     "data": {
      "text/plain": [
       "10.0"
      ]
     },
     "execution_count": 8,
     "metadata": {},
     "output_type": "execute_result"
    }
   ],
   "source": [
    "value.(L)"
   ]
  },
  {
   "cell_type": "code",
   "execution_count": 9,
   "metadata": {},
   "outputs": [
    {
     "data": {
      "text/plain": [
       "15-element Vector{Float64}:\n",
       "  1.0\n",
       "  1.0\n",
       "  1.0\n",
       " 15.0\n",
       "  1.0\n",
       "  1.0\n",
       "  1.0\n",
       "  1.0\n",
       "  1.0\n",
       "  1.0\n",
       "  1.0\n",
       "  1.0\n",
       "  1.0\n",
       "  1.0\n",
       "  1.0"
      ]
     },
     "execution_count": 9,
     "metadata": {},
     "output_type": "execute_result"
    }
   ],
   "source": [
    "value.(u[5, :])"
   ]
  },
  {
   "cell_type": "code",
   "execution_count": null,
   "metadata": {},
   "outputs": [],
   "source": []
  }
 ],
 "metadata": {
  "kernelspec": {
   "display_name": "Julia 1.10.5",
   "language": "julia",
   "name": "julia-1.10"
  },
  "language_info": {
   "file_extension": ".jl",
   "mimetype": "application/julia",
   "name": "julia",
   "version": "1.10.5"
  }
 },
 "nbformat": 4,
 "nbformat_minor": 2
}
