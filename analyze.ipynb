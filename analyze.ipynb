{
 "cells": [
  {
   "cell_type": "markdown",
   "metadata": {},
   "source": [
    "# RUN IN PYTHON"
   ]
  },
  {
   "cell_type": "code",
   "execution_count": 1,
   "metadata": {},
   "outputs": [],
   "source": [
    "# pip install h5py"
   ]
  },
  {
   "cell_type": "code",
   "execution_count": 2,
   "metadata": {},
   "outputs": [],
   "source": [
    "import h5py\n",
    "import json\n",
    "import numpy as np\n",
    "\n",
    "# import matplotlib.pyplot as plt\n",
    "# import matplotlib.patches as patches\n",
    "import matplotlib.colors as mcolors\n",
    "\n",
    "import networkx as nx\n",
    "import matplotlib.pyplot as plt"
   ]
  },
  {
   "cell_type": "code",
   "execution_count": 3,
   "metadata": {},
   "outputs": [
    {
     "name": "stdout",
     "output_type": "stream",
     "text": [
      "Datasets in the file: ['factories', 'x_edges', 'y_edges', 'z_edges']\n"
     ]
    }
   ],
   "source": [
    "with open('inputs/info.json', 'r') as f:\n",
    "    info_json = json.load(f)\n",
    "cand_factories = np.array(info_json['factories'])\n",
    "demands = np.array(info_json['demands'])\n",
    "\n",
    "with h5py.File('results/output.h5', 'r') as f:\n",
    "    # List all datasets\n",
    "    print(\"Datasets in the file:\", list(f.keys()))\n",
    "    factory_indic = f['factories'].__array__() #indicator for each factory\n",
    "    x_edges = f['x_edges'].__array__()\n",
    "    y_edges = f['y_edges'].__array__()\n",
    "    z_edges = f['z_edges'].__array__()\n",
    "\n",
    "_,M,N = y_edges.shape"
   ]
  },
  {
   "cell_type": "code",
   "execution_count": null,
   "metadata": {},
   "outputs": [
    {
     "name": "stdout",
     "output_type": "stream",
     "text": [
      "(array([2]), array([0]))\n",
      "(array([], dtype=int64), array([], dtype=int64))\n",
      "(array([], dtype=int64), array([], dtype=int64))\n"
     ]
    }
   ],
   "source": [
    "# fig, ax = plt.subplots(figsize=(6, 6))\n",
    "# size = 10\n",
    "# width = 0.3\n",
    "\n",
    "# # Set the grid\n",
    "# ax.set_xlim(-width, size)\n",
    "# ax.set_ylim(-width, size)\n",
    "# ax.grid(True, which='both', color='lightgray', linewidth=0.5)\n",
    "\n",
    "color_list = list(mcolors.XKCD_COLORS.keys())\n",
    "# color_list = ['red', 'blue', 'orange', 'green', 'pink', 'black', 'white']\n",
    "# color_num = 0\n",
    "\n",
    "G = nx.DiGraph()\n",
    "for i in range(len(cand_factories)):\n",
    "    color = 'grey'\n",
    "    if factory_indic[i] == 1:\n",
    "        color = 'blue'\n",
    "    G.add_node(str(i) + 'F', color=color, pos=cand_factories[i])\n",
    "\n",
    "G.add_nodes_from(\n",
    "    [(str(i) + 'D', {\"color\": 'red', 'pos': demands[i]}) for i in range(len(demands))]\n",
    ")\n",
    "\n",
    "color_num = 0\n",
    "for truck_num in range(N):\n",
    "    #Factory --> Demand\n",
    "    idxs = np.where(y_edges[truck_num, :, :])\n",
    "    idx1_list, idx2_list = idxs #all demand 1's, all demand 2's\n",
    "    for idx1, idx2 in zip(idx1_list, idx2_list):\n",
    "        G.add_edge((str(idx1) + 'F'), (str(idx2) + 'D'), color = color_list[color_num])\n",
    "\n",
    "    #Demand --> Factory\n",
    "    idxs = np.where(z_edges[truck_num, :, :])\n",
    "    print(idxs)\n",
    "    idx1_list, idx2_list = idxs #all demand 1's, all demand 2's\n",
    "    for idx1, idx2 in zip(idx1_list, idx2_list):\n",
    "        G.add_edge((str(idx1) + 'D'), (str(idx2) + 'F'), color = color_list[color_num])\n",
    "\n",
    "    break\n",
    "# for truck_num in range(N):\n",
    "#     #Demand 1 --> Demand 2 Edges (x)\n",
    "#     # idxs = np.where(x_edges[truck_num, :, :])\n",
    "#     # idx1_list, idx2_list = idxs #all demand 1's, all demand 2's\n",
    "#     # for idx1, idx2 in zip(idx1_list, idx2_list):\n",
    "#     #     loc1 =  demands[idx1]\n",
    "#     #     loc2 =  demands[idx2]\n",
    "#     #     ax.plot([loc1[0], loc2[0]], [loc1[1], loc2[1]], color = color_list[color_num])\n",
    "\n",
    "#     #Factory --> Edge\n",
    "#     idxs = np.where(y_edges[truck_num, :, :])\n",
    "#     idx1_list, idx2_list = idxs #all factories, all demands\n",
    "#     for idx1, idx2 in zip(idx1_list, idx2_list):\n",
    "#         #print(idx1, idx2)\n",
    "#         loc1 =  cand_factories[idx1]\n",
    "#         loc2 =  demands[idx2]\n",
    "#         #print(loc1, loc2)\n",
    "#         #ax.plot([loc1[0], loc2[0]], [loc1[1], loc2[1]], color = color_list[color_num], linestyle='--')\n",
    "#         bezier = patches.PathPatch(\n",
    "#             patches.Path(\n",
    "#                 # [loc1, ((loc1[0] + loc2[0])/2, (loc1[1] + loc2[1])/2 + -3 * random.random() + 3), loc2],  # Control points\n",
    "#                 [patches.Path.MOVETO, patches.Path.CURVE3, patches.Path.CURVE3]\n",
    "#             ),\n",
    "#             edgecolor='blue', linewidth=2, facecolor='none'\n",
    "#         )\n",
    "#         ax.add_patch(bezier)\n",
    "#         color_num += 1\n",
    "\n",
    "\n",
    "#     # idxs = np.where(z_edges[truck_num, :, :])\n",
    "#     # idx1_list, idx2_list = idxs #all factories, all demands\n",
    "#     # for idx1, idx2 in zip(idx1_list, idx2_list):\n",
    "#     #     loc1 =  demands[idx1]\n",
    "#     #     loc2 =  cand_factories[idx2]\n",
    "#     #     ax.plot([loc1[0], loc2[0]], [loc1[1], loc2[1]], color = color_list[color_num])\n",
    "\n",
    "\n",
    "# for factory in built_factories:\n",
    "#     circ = patches.Circle((factory[0], factory[1]), width, edgecolor='none', facecolor='blue')\n",
    "#     ax.add_patch(circ)\n",
    "\n",
    "# for demand_loc in demands:\n",
    "#     cir = patches.Circle((demand_loc[0], demand_loc[1]), width, edgecolor='none', facecolor='red')\n",
    "#     ax.add_patch(cir)\n"
   ]
  },
  {
   "cell_type": "code",
   "execution_count": 8,
   "metadata": {},
   "outputs": [
    {
     "name": "stdout",
     "output_type": "stream",
     "text": [
      "['0F', '1F', '2F', '3F', '4F', '5F', '6F', '7F', '8F', '9F', '10F', '11F', '12F', '13F', '14F', '15F', '16F', '17F', '18F', '19F', '20F', '21F', '0D', '1D', '2D']\n",
      "[('0F', '0D'), ('9F', '1D'), ('9F', '2D'), ('2D', '0F')]\n"
     ]
    },
    {
     "data": {
      "image/png": "[encoded data removed]",
      "text/plain": [
       "<Figure size 640x480 with 1 Axes>"
      ]
     },
     "metadata": {},
     "output_type": "display_data"
    }
   ],
   "source": [
    "print(G.nodes)\n",
    "print(G.edges)\n",
    "node_colors = [G.nodes[node]['color'] for node in G.nodes]\n",
    "pos = nx.get_node_attributes(G, 'pos')  \n",
    "nx.draw_networkx(G, pos=pos,node_color=node_colors, connectionstyle='arc3,rad=0.2', arrows=True, font_size=0)"
   ]
  },
  {
   "cell_type": "code",
   "execution_count": null,
   "metadata": {},
   "outputs": [],
   "source": []
  }
 ],
 "metadata": {
  "kernelspec": {
   "display_name": "Python 3",
   "language": "python",
   "name": "python3"
  },
  "language_info": {
   "codemirror_mode": {
    "name": "ipython",
    "version": 3
   },
   "file_extension": ".py",
   "mimetype": "text/x-python",
   "name": "python",
   "nbconvert_exporter": "python",
   "pygments_lexer": "ipython3",
   "version": "3.11.1"
  }
 },
 "nbformat": 4,
 "nbformat_minor": 2
}
