{
 "cells": [
  {
   "cell_type": "code",
   "execution_count": null,
   "metadata": {},
   "outputs": [
    {
     "data": {
      "text/plain": [
       "10×90 Matrix{Float64}:\n",
       "  6.0   5.0   4.0   3.0   2.0   3.0  …   7.0   8.0   9.0  10.0  11.0  12.0\n",
       " 11.0  10.0   9.0   8.0   7.0   6.0     10.0   9.0   8.0   7.0   6.0   7.0\n",
       "  4.0   3.0   4.0   5.0   6.0   7.0      9.0  10.0  11.0  12.0  13.0  14.0\n",
       "  9.0   8.0   7.0   6.0   5.0   4.0     14.0  13.0  12.0  11.0  10.0   9.0\n",
       "  6.0   5.0   6.0   7.0   8.0   9.0      7.0   8.0   9.0  10.0  11.0  12.0\n",
       " 10.0   9.0   8.0   7.0   8.0   9.0  …   3.0   4.0   5.0   6.0   7.0   8.0\n",
       " 16.0  15.0  14.0  13.0  12.0  11.0      7.0   6.0   5.0   4.0   3.0   2.0\n",
       " 11.0  10.0   9.0   8.0   9.0  10.0      2.0   3.0   4.0   5.0   6.0   7.0\n",
       "  9.0   8.0   7.0   8.0   9.0  10.0      4.0   5.0   6.0   7.0   8.0   9.0\n",
       "  9.0   8.0   7.0   6.0   7.0   8.0      4.0   5.0   6.0   7.0   8.0   9.0"
      ]
     },
     "execution_count": 23,
     "metadata": {},
     "output_type": "execute_result"
    }
   ],
   "source": [
    "using JuMP\n",
    "using Gurobi\n",
    "using CSV\n",
    "using DataFrames\n",
    "\n",
    "Tx = CSV.read(\"Tx.csv\", DataFrame, drop=1:1) |> Matrix\n",
    "Ty = CSV.read(\"Ty.csv\",DataFrame)|> Matrix;\n"
   ]
  },
  {
   "cell_type": "code",
   "execution_count": 21,
   "metadata": {},
   "outputs": [
    {
     "data": {
      "text/plain": [
       "89×10 Matrix{Float64}:\n",
       " 10.0   6.0   8.0   3.0  11.0   5.0  16.0  11.0   3.0  12.0\n",
       " 11.0   7.0   9.0   4.0  10.0   4.0  15.0  10.0   2.0  11.0\n",
       " 12.0   8.0  10.0   5.0   9.0   3.0  14.0   9.0   1.0  10.0\n",
       " 13.0   9.0  11.0   6.0   8.0   2.0  13.0   8.0   2.0   9.0\n",
       " 14.0  10.0  12.0   7.0   7.0   1.0  12.0   7.0   3.0   8.0\n",
       " 16.0  12.0  14.0   9.0   5.0   1.0  10.0   9.0   5.0  10.0\n",
       " 17.0  13.0  15.0  10.0   6.0   2.0   9.0  10.0   6.0  11.0\n",
       " 18.0  14.0  16.0  11.0   7.0   3.0  10.0  11.0   7.0  12.0\n",
       "  8.0   6.0   6.0   1.0  11.0   7.0  16.0  11.0   3.0  12.0\n",
       "  9.0   5.0   7.0   2.0  10.0   6.0  15.0  10.0   2.0  11.0\n",
       " 10.0   6.0   8.0   3.0   9.0   5.0  14.0   9.0   1.0  10.0\n",
       " 12.0   8.0  10.0   5.0   7.0   3.0  12.0   7.0   1.0   8.0\n",
       " 13.0   9.0  11.0   6.0   6.0   2.0  11.0   6.0   2.0   7.0\n",
       "  ⋮                             ⋮                      \n",
       "  7.0   7.0   7.0  12.0   4.0   8.0   3.0   2.0  10.0   1.0\n",
       "  8.0   8.0   8.0  13.0   3.0   9.0   2.0   3.0  11.0   2.0\n",
       "  9.0   9.0   9.0  14.0   4.0  10.0   1.0   4.0  12.0   3.0\n",
       " 10.0  10.0  10.0  15.0   5.0  11.0   2.0   5.0  13.0   4.0\n",
       "  1.0   3.0   3.0   8.0  10.0  14.0   7.0   6.0  10.0   5.0\n",
       "  2.0   4.0   4.0   9.0   9.0  13.0   6.0   5.0   9.0   4.0\n",
       "  3.0   5.0   5.0  10.0   8.0  12.0   5.0   4.0   8.0   3.0\n",
       "  4.0   6.0   6.0  11.0   7.0  11.0   4.0   3.0   9.0   2.0\n",
       "  5.0   7.0   7.0  12.0   6.0  10.0   3.0   2.0  10.0   1.0\n",
       "  6.0   8.0   8.0  13.0   5.0   9.0   2.0   3.0  11.0   2.0\n",
       "  7.0   9.0   9.0  14.0   4.0  10.0   1.0   4.0  12.0   3.0\n",
       "  9.0  11.0  11.0  16.0   6.0  12.0   1.0   6.0  14.0   5.0"
      ]
     },
     "execution_count": 21,
     "metadata": {},
     "output_type": "execute_result"
    }
   ],
   "source": [
    "Ty"
   ]
  },
  {
   "cell_type": "code",
   "execution_count": 1,
   "metadata": {},
   "outputs": [
    {
     "ename": "LoadError",
     "evalue": "UndefVarError: `Gurobi` not defined",
     "output_type": "error",
     "traceback": [
      "UndefVarError: `Gurobi` not defined",
      "",
      "Stacktrace:",
      " [1] top-level scope",
      "   @ In[1]:1"
     ]
    }
   ],
   "source": [
    "model = Model(Gurobi.Optimizer)\n",
    "set_optimizer_attribute(model, \"TimeLimit\", 120)\n",
    "\n",
    "@variable(model, o[1:N], Bin)\n",
    "@variable(model, x[1:N, 1:N, 1:N], Bin)\n",
    "@variable(model, y[1:N, 1:M, 1:N], Bin)\n",
    "@variable(model, z[1:N, 1:N, 1:M], Bin)\n",
    "@variable(model, f[1:N] >= 0)\n",
    "@variable(model, L >= 0)\n",
    "\n",
    "@Objective(model, Min, alpha*(Cf*sum(o[i] for i in 1:M) + \n",
    "Ct * sum(y[k, i, j] for k in 1:N, i in 1:M, j in 1:N) + \n",
    "Cw * sum(sum(y[k,i,j]*Ty[i,j] + z[k,j,i]*Tz[j,i] for i in 1:M, j in 1:N) + sum(x[k, j1, j2] * Tx[j1, j2] for j1 in 1:N, j2 in 1:N) for k in 1:N)) +\n",
    "(1 - alpha) * L)\n",
    "\n",
    "# Optional additional constriant\n",
    "for j in 1:N, k in 1:N\n",
    "    @constriant(model, x[k,j,j] == 0)\n",
    "end\n",
    "# end additional constraint\n",
    "\n",
    "for k in 1:N\n",
    "    @constraint(model, sum(y[k,i,j] for i in 1:M, j in 1:N) <= 1)\n",
    "end\n",
    "\n",
    "for k in 1:N\n",
    "    @constraint(model, sum(x[k,j1,j2] for j1 in 1:N, j2 in 1:N) <= (N - 1) * sum(y[k,i,j] for i in 1:M, j in 1:N))\n",
    "end\n",
    "\n",
    "for i in 1:M\n",
    "    @constraint(model, sum(y[k,i,j] for k in 1:N, j in 1:N) <= N * o[i])\n",
    "end\n",
    "\n",
    "for k in 1:N, i in 1:M\n",
    "    @costraint(model, sum(z[k,j,i] for j in 1:N) == sum(y[k,i,j] for j in 1:N))\n",
    "end\n",
    "\n",
    "for j2 in 1:N \n",
    "    @constraint(model, sum(sum(y[k,i,j2] for i in 1:M) + sum(x[k,j1,j2] for j1 in 1:N) for k in 1:N) == 1)\n",
    "end \n",
    "\n",
    "for j1 in 1:N \n",
    "    @constraint(model, sum(sum(x[k,j1,j2] for j2 in 1:N) + sum(z[k,j1,i] for i in 1:M) for k in 1:N) == 1)\n",
    "end \n",
    "\n",
    "# Now time constraints\n",
    "for k in 1:N \n",
    "    @constraint(model, f[k] == sum(y[k,i,j] * Ty[i,j] for i in 1:M, j in 1:N) + sum(x[k,j1,j2] * Tx[j1,j2] for j1 in 1:N, j2 in 1:N))\n",
    "end\n",
    "\n",
    "for k in 1:N \n",
    "    @constraint(model, f[k] <= L)\n",
    "end\n",
    "\n",
    "\n",
    "\n"
   ]
  }
 ],
 "metadata": {
  "kernelspec": {
   "display_name": "Julia 1.10.5",
   "language": "julia",
   "name": "julia-1.10"
  },
  "language_info": {
   "file_extension": ".jl",
   "mimetype": "application/julia",
   "name": "julia",
   "version": "1.10.5"
  }
 },
 "nbformat": 4,
 "nbformat_minor": 2
}
