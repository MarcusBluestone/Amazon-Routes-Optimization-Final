{
 "cells": [
  {
   "cell_type": "markdown",
   "metadata": {},
   "source": [
    "# RUN IN JULIA"
   ]
  },
  {
   "cell_type": "markdown",
   "metadata": {},
   "source": [
    "Things I did:\n",
    "1. Add new flow constraint such that in = out for each truck, demand location\n",
    "2. Add MTZ constraints to avoid cycles within demand locations"
   ]
  },
  {
   "cell_type": "markdown",
   "metadata": {},
   "source": [
    "Things to try speeding up:\n",
    "1. Redundant constraints?\n",
    "2. Better multi-objective form? See the slides... \n",
    "3. Put a limit on total number of vehicles\n",
    "4. Only add feasible arcs? I.e. threshold against edges that are too big of a time in our dataset\n",
    "5. OPtimize for less things? Don't need hourly wages?"
   ]
  },
  {
   "cell_type": "code",
   "execution_count": 1,
   "metadata": {},
   "outputs": [],
   "source": [
    "# import Pkg\n",
    "# Pkg.add(\"HDF5\")"
   ]
  },
  {
   "cell_type": "code",
   "execution_count": 2,
   "metadata": {},
   "outputs": [],
   "source": [
    "using JuMP\n",
    "using Gurobi\n",
    "using CSV\n",
    "using DataFrames\n",
    "using HDF5\n",
    "using Base.Threads\n"
   ]
  },
  {
   "cell_type": "code",
   "execution_count": 3,
   "metadata": {},
   "outputs": [
    {
     "name": "stdout",
     "output_type": "stream",
     "text": [
      "M: 1550\n",
      "N: 50\n",
      "S: 5\n"
     ]
    }
   ],
   "source": [
    "Tx = CSV.read(\"inputs/Tx.csv\", DataFrame, drop=1:1) |> Matrix #N, N\n",
    "Ty = CSV.read(\"inputs/Ty.csv\",DataFrame, drop=1:1)|> Matrix; #M, N\n",
    "Tz = CSV.read(\"inputs/Tz.csv\",DataFrame, drop=1:1)|> Matrix; #N, M\n",
    "\n",
    "M,N = size(Ty)\n",
    "S = 5\n",
    "\n",
    "Cf = 1\n",
    "Cw = 1\n",
    "Ct = 3\n",
    "alpha = 0.5\n",
    "println(\"M: \", M)\n",
    "println(\"N: \", N)\n",
    "println(\"S: \", S)"
   ]
  },
  {
   "cell_type": "code",
   "execution_count": 4,
   "metadata": {},
   "outputs": [
    {
     "name": "stdout",
     "output_type": "stream",
     "text": [
      "Set parameter Username\n",
      "Academic license - for non-commercial use only - expires 2025-09-05\n",
      "Set parameter TimeLimit to value 240\n"
     ]
    }
   ],
   "source": [
    "model = Model(Gurobi.Optimizer)\n",
    "set_optimizer_attribute(model, \"TimeLimit\", 240)"
   ]
  },
  {
   "cell_type": "code",
   "execution_count": null,
   "metadata": {},
   "outputs": [],
   "source": [
    "\n",
    "@variable(model, o[1:M], Bin)\n",
    "@variable(model, x[1:S, 1:N, 1:N], Bin)\n",
    "@variable(model, y[1:S, 1:M, 1:N], Bin)\n",
    "@variable(model, z[1:S, 1:N, 1:M], Bin)\n",
    "@variable(model, f[1:S] >= 0)\n",
    "@variable(model, u[1:S, 1:N]) #k, j\n",
    "@variable(model, L >= 0)\n",
    "\n",
    "@objective(model, Min, alpha*(Cf*sum(o[i] for i in 1:M) + \n",
    "Ct * sum(y[k, i, j] for k in 1:S, i in 1:M, j in 1:N) + \n",
    "Cw * sum(sum(y[k,i,j]*Ty[i,j] + z[k,j,i]*Tz[j,i] for i in 1:M, j in 1:N) + sum(x[k, j1, j2] * Tx[j1, j2] for j1 in 1:N, j2 in 1:N) for k in 1:S)) +\n",
    "(1 - alpha) * L)\n",
    "\n",
    "# @objective(model, Min, 0)\n",
    "\n",
    "\n",
    "#MTZ Constraitns\n",
    "for k in 1:S\n",
    "    for j in 1:N\n",
    "        @constraint(model, u[k, j] >= 1)\n",
    "        @constraint(model, u[k, j] <= N)\n",
    "    end\n",
    "end\n",
    "\n",
    "#(MTZ) Between Demand Locations\n",
    "for j1 in 1:N\n",
    "    for j2 in 1:N\n",
    "        if j1 != j2\n",
    "            for k in 1:S\n",
    "                @constraint(model, u[k, j2] - u[k, j1] + N * x[k, j1, j2] <= N - 1)\n",
    "            end\n",
    "        end\n",
    "    end\n",
    "end\n",
    "\n",
    "# Optional additional constriant\n",
    "for j in 1:N\n",
    "    for k in 1:S\n",
    "        @constraint(model, x[k,j,j] == 0)\n",
    "    end\n",
    "end\n",
    "# end additional constraint\n",
    "\n",
    "#A truck can leave from at most one factory\n",
    "for k in 1:S\n",
    "    @constraint(model, sum(y[k,i,j] for i in 1:M, j in 1:N) <= 1)\n",
    "end\n",
    "\n",
    "#Trucks can only travel if they first leave from a factory \n",
    "for k in 1:S\n",
    "    @constraint(model, sum(x[k,j1,j2] for j1 in 1:N, j2 in 1:N) <= (N - 1) * sum(y[k,i,j] for i in 1:M, j in 1:N))\n",
    "end\n",
    "\n",
    "#Trucks can only leave used factories\n",
    "for i in 1:M\n",
    "    @constraint(model, sum(y[k,i,j] for k in 1:S, j in 1:N) <= S * o[i]) #changed this from N to S\n",
    "end\n",
    "\n",
    "#Trucks start and end at the same factory\n",
    "for k in 1:S\n",
    "    for i in 1:M\n",
    "        @constraint(model, sum(z[k,j,i] for j in 1:N) == sum(y[k,i,j] for j in 1:N))\n",
    "    end\n",
    "end\n",
    "\n",
    "#FLOW CONSTRAINTS\n",
    "for j2 in 1:N #SUM IN = 1\n",
    "    @constraint(model, sum(sum(y[k,i,j2] for i in 1:M) + sum(x[k,j1,j2] for j1 in 1:N) for k in 1:S) == 1)\n",
    "end \n",
    "\n",
    "for j1 in 1:N  #SUM OUT = 1\n",
    "    @constraint(model, sum(sum(x[k,j1,j2] for j2 in 1:N) + sum(z[k,j1,i] for i in 1:M) for k in 1:S) == 1)\n",
    "end \n",
    "\n",
    "#If truck k enters location j, it must exit location j\n",
    "for j in 1:N\n",
    "    for k in 1:S\n",
    "        @constraint(model, (sum(y[k,i,j] for i in 1:M) + sum(x[k,j1,j] for j1 in 1:N)) == (sum(x[k,j,j2] for j2 in 1:N) + sum(z[k,j,i] for i in 1:M)) )\n",
    "    end\n",
    "end\n",
    "\n",
    "# Time constraints\n",
    "for k in 1:S\n",
    "    @constraint(model, f[k] == sum(y[k,i,j] * Ty[i,j] for i in 1:M, j in 1:N) + sum(x[k,j1,j2] * Tx[j1,j2] for j1 in 1:N, j2 in 1:N))\n",
    "end\n",
    "\n",
    "for k in 1:S \n",
    "    @constraint(model, f[k] <= L)\n",
    "end"
   ]
  },
  {
   "cell_type": "code",
   "execution_count": null,
   "metadata": {},
   "outputs": [],
   "source": [
    "optimize!(model)"
   ]
  },
  {
   "cell_type": "code",
   "execution_count": null,
   "metadata": {},
   "outputs": [],
   "source": [
    "try\n",
    "    rm(\"results/output.h5\")\n",
    "catch\n",
    "    1\n",
    "end\n",
    "h5write(\"results/output.h5\", \"factories\", value.(o))\n",
    "h5write(\"results/output.h5\", \"x_edges\", value.(x))\n",
    "h5write(\"results/output.h5\", \"y_edges\", value.(y))\n",
    "h5write(\"results/output.h5\", \"z_edges\", value.(z))\n"
   ]
  },
  {
   "cell_type": "code",
   "execution_count": null,
   "metadata": {},
   "outputs": [],
   "source": []
  }
 ],
 "metadata": {
  "kernelspec": {
   "display_name": "Julia 1.10.5",
   "language": "julia",
   "name": "julia-1.10"
  },
  "language_info": {
   "file_extension": ".jl",
   "mimetype": "application/julia",
   "name": "julia",
   "version": "1.10.5"
  }
 },
 "nbformat": 4,
 "nbformat_minor": 2
}
