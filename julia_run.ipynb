{
 "cells": [
  {
   "cell_type": "markdown",
   "metadata": {},
   "source": [
    "# RUN IN JULIA"
   ]
  },
  {
   "cell_type": "code",
   "execution_count": 1,
   "metadata": {},
   "outputs": [
    {
     "name": "stderr",
     "output_type": "stream",
     "text": [
      "\u001b[32m\u001b[1m   Resolving\u001b[22m\u001b[39m package versions...\n",
      "\u001b[32m\u001b[1m  No Changes\u001b[22m\u001b[39m to `~/.julia/environments/v1.10/Project.toml`\n",
      "\u001b[32m\u001b[1m  No Changes\u001b[22m\u001b[39m to `~/.julia/environments/v1.10/Manifest.toml`\n"
     ]
    }
   ],
   "source": [
    "# import Pkg\n",
    "# Pkg.add(\"HDF5\")"
   ]
  },
  {
   "cell_type": "code",
   "execution_count": 2,
   "metadata": {},
   "outputs": [],
   "source": [
    "using JuMP\n",
    "using Gurobi\n",
    "using CSV\n",
    "using DataFrames\n",
    "using HDF5\n"
   ]
  },
  {
   "cell_type": "code",
   "execution_count": 3,
   "metadata": {},
   "outputs": [
    {
     "name": "stdout",
     "output_type": "stream",
     "text": [
      "M: 90\n",
      "N: 10\n"
     ]
    }
   ],
   "source": [
    "Tx = CSV.read(\"inputs/Tx.csv\", DataFrame, drop=1:1) |> Matrix #N, N\n",
    "Ty = CSV.read(\"inputs/Ty.csv\",DataFrame, drop=1:1)|> Matrix; #M, N\n",
    "Tz = CSV.read(\"inputs/Tz.csv\",DataFrame, drop=1:1)|> Matrix; #N, M\n",
    "\n",
    "M,N = size(Ty)\n",
    "Cf = 1\n",
    "Cw = 1\n",
    "Ct = 1\n",
    "alpha = 0.5\n",
    "println(\"M: \", M)\n",
    "println(\"N: \", N)"
   ]
  },
  {
   "cell_type": "code",
   "execution_count": 4,
   "metadata": {},
   "outputs": [
    {
     "name": "stdout",
     "output_type": "stream",
     "text": [
      "Set parameter Username\n",
      "Academic license - for non-commercial use only - expires 2025-09-05\n",
      "Set parameter TimeLimit to value 120\n"
     ]
    }
   ],
   "source": [
    "model = Model(Gurobi.Optimizer)\n",
    "set_optimizer_attribute(model, \"TimeLimit\", 120)\n",
    "\n",
    "@variable(model, o[1:M], Bin)\n",
    "@variable(model, x[1:N, 1:N, 1:N], Bin)\n",
    "@variable(model, y[1:N, 1:M, 1:N], Bin)\n",
    "@variable(model, z[1:N, 1:N, 1:M], Bin)\n",
    "@variable(model, f[1:N] >= 0)\n",
    "@variable(model, L >= 0)\n",
    "\n",
    "@objective(model, Min, alpha*(Cf*sum(o[i] for i in 1:M) + \n",
    "Ct * sum(y[k, i, j] for k in 1:N, i in 1:M, j in 1:N) + \n",
    "Cw * sum(sum(y[k,i,j]*Ty[i,j] + z[k,j,i]*Tz[j,i] for i in 1:M, j in 1:N) + sum(x[k, j1, j2] * Tx[j1, j2] for j1 in 1:N, j2 in 1:N) for k in 1:N)) +\n",
    "(1 - alpha) * L)\n",
    "\n",
    "# Optional additional constriant\n",
    "for j in 1:N, k in 1:N\n",
    "    @constraint(model, x[k,j,j] == 0)\n",
    "end\n",
    "# end additional constraint\n",
    "\n",
    "for k in 1:N\n",
    "    @constraint(model, sum(y[k,i,j] for i in 1:M, j in 1:N) <= 1)\n",
    "end\n",
    "\n",
    "for k in 1:N\n",
    "    @constraint(model, sum(x[k,j1,j2] for j1 in 1:N, j2 in 1:N) <= (N - 1) * sum(y[k,i,j] for i in 1:M, j in 1:N))\n",
    "end\n",
    "\n",
    "for i in 1:M\n",
    "    @constraint(model, sum(y[k,i,j] for k in 1:N, j in 1:N) <= N * o[i])\n",
    "end\n",
    "\n",
    "for k in 1:N, i in 1:M\n",
    "    @constraint(model, sum(z[k,j,i] for j in 1:N) == sum(y[k,i,j] for j in 1:N))\n",
    "end\n",
    "\n",
    "for j2 in 1:N \n",
    "    @constraint(model, sum(sum(y[k,i,j2] for i in 1:M) + sum(x[k,j1,j2] for j1 in 1:N) for k in 1:N) == 1)\n",
    "end \n",
    "\n",
    "for j1 in 1:N \n",
    "    @constraint(model, sum(sum(x[k,j1,j2] for j2 in 1:N) + sum(z[k,j1,i] for i in 1:M) for k in 1:N) == 1)\n",
    "end \n",
    "\n",
    "# Now time constraints\n",
    "for k in 1:N \n",
    "    @constraint(model, f[k] == sum(y[k,i,j] * Ty[i,j] for i in 1:M, j in 1:N) + sum(x[k,j1,j2] * Tx[j1,j2] for j1 in 1:N, j2 in 1:N))\n",
    "end\n",
    "\n",
    "for k in 1:N \n",
    "    @constraint(model, f[k] <= L)\n",
    "end"
   ]
  },
  {
   "cell_type": "code",
   "execution_count": 5,
   "metadata": {},
   "outputs": [
    {
     "name": "stdout",
     "output_type": "stream",
     "text": [
      "Set parameter TimeLimit to value 120\n",
      "Gurobi Optimizer version 11.0.2 build v11.0.2rc0 (mac64[arm] - Darwin 23.6.0 23G93)\n",
      "\n",
      "CPU model: Apple M1\n",
      "Thread count: 8 physical cores, 8 logical processors, using up to 8 threads\n",
      "\n",
      "Optimize a model with 1150 rows, 19101 columns and 76120 nonzeros\n",
      "Model fingerprint: 0x9575be04\n",
      "Variable types: 11 continuous, 19090 integer (19090 binary)\n",
      "Coefficient statistics:\n",
      "  Matrix range     [1e+00, 2e+01]\n",
      "  Objective range  [5e-01, 9e+00]\n",
      "  Bounds range     [0e+00, 0e+00]\n",
      "  RHS range        [1e+00, 1e+00]\n",
      "Found heuristic solution: objective 70.5000000\n",
      "Presolve removed 110 rows and 100 columns\n",
      "Presolve time: 0.07s\n",
      "Presolved: 1040 rows, 19001 columns, 66720 nonzeros\n",
      "Variable types: 0 continuous, 19001 integer (19000 binary)\n",
      "\n",
      "Root relaxation: objective 1.290000e+01, 171 iterations, 0.01 seconds (0.02 work units)\n",
      "\n",
      "    Nodes    |    Current Node    |     Objective Bounds      |     Work\n",
      " Expl Unexpl |  Obj  Depth IntInf | Incumbent    BestBd   Gap | It/Node Time\n",
      "\n",
      "     0     0   12.90000    0   35   70.50000   12.90000  81.7%     -    0s\n",
      "H    0     0                      16.5000000   12.90000  21.8%     -    0s\n",
      "     0     0   13.87500    0   45   16.50000   13.87500  15.9%     -    0s\n",
      "     0     0   13.93333    0   32   16.50000   13.93333  15.6%     -    0s\n",
      "     0     0   15.75000    0   26   16.50000   15.75000  4.55%     -    0s\n",
      "     0     0   15.80000    0   24   16.50000   15.80000  4.24%     -    0s\n",
      "     0     0     cutoff    0        16.50000   16.50000  0.00%     -    0s\n",
      "\n",
      "Cutting planes:\n",
      "  Gomory: 1\n",
      "  Cover: 1\n",
      "  Zero half: 1\n",
      "  RLT: 1\n",
      "\n",
      "Explored 1 nodes (1336 simplex iterations) in 0.39 seconds (0.56 work units)\n",
      "Thread count was 8 (of 8 available processors)\n",
      "\n",
      "Solution count 3: 16.5 31 70.5 \n",
      "\n",
      "Optimal solution found (tolerance 1.00e-04)\n",
      "Best objective 1.650000000000e+01, best bound 1.650000000000e+01, gap 0.0000%\n",
      "\n",
      "User-callback calls 376, time in user-callback 0.00 sec\n"
     ]
    }
   ],
   "source": [
    "optimize!(model)"
   ]
  },
  {
   "cell_type": "code",
   "execution_count": 6,
   "metadata": {},
   "outputs": [],
   "source": [
    "rm(\"results/output.h5\")\n",
    "h5write(\"results/output.h5\", \"factories\", value.(o))\n",
    "h5write(\"results/output.h5\", \"x_edges\", value.(x))\n",
    "h5write(\"results/output.h5\", \"y_edges\", value.(y))\n",
    "h5write(\"results/output.h5\", \"z_edges\", value.(z))\n"
   ]
  }
 ],
 "metadata": {
  "kernelspec": {
   "display_name": "Julia 1.10.5",
   "language": "julia",
   "name": "julia-1.10"
  },
  "language_info": {
   "file_extension": ".jl",
   "mimetype": "application/julia",
   "name": "julia",
   "version": "1.10.5"
  }
 },
 "nbformat": 4,
 "nbformat_minor": 2
}
