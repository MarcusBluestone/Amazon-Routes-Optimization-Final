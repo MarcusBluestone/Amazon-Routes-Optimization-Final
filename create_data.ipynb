{
 "cells": [
  {
   "cell_type": "markdown",
   "metadata": {},
   "source": [
    "# RUN IN PYTHON"
   ]
  },
  {
   "cell_type": "code",
   "execution_count": 3,
   "metadata": {},
   "outputs": [],
   "source": [
    "import random\n",
    "import numpy as np\n",
    "import pandas as pd\n",
    "import json\n"
   ]
  },
  {
   "cell_type": "code",
   "execution_count": null,
   "metadata": {},
   "outputs": [],
   "source": [
    "size = 10\n",
    "demand_cnt = 10\n",
    "\n",
    "def get_time(loc1, loc2):\n",
    "    return abs(loc1[0]  - loc2[0]) + abs(loc1[1]  - loc2[1])\n",
    "\n",
    "def get_data(size):\n",
    "    grid = np.zeros((size, size))\n",
    "    demand_locations = set()\n",
    "\n",
    "    while len(demand_locations) < demand_cnt:\n",
    "        rand_row, rand_col = random.choice(range(size)), random.choice(range(size))\n",
    "        demand_locations.add((rand_row, rand_col))\n",
    "        grid[rand_row, rand_col] = 1\n",
    "    \n",
    "    candidate_facilties = []\n",
    "    for i in range(size):\n",
    "        for j in range(size):\n",
    "            if grid[i,j] == 0:\n",
    "                candidate_facilties.append((i,j))\n",
    "\n",
    "    demand_locations = list(demand_locations)\n",
    "\n",
    "    Tx = np.zeros((demand_cnt, demand_cnt))\n",
    "    for j1 in range(demand_cnt):\n",
    "        for j2 in range(demand_cnt):\n",
    "            Tx[j1, j2] = get_time(demand_locations[j1], demand_locations[j2])\n",
    "\n",
    "    Ty = np.zeros((len(candidate_facilties), demand_cnt))\n",
    "    for i in range(len(candidate_facilties)):\n",
    "        for j in range(demand_cnt):\n",
    "            Ty[i, j] = get_time(candidate_facilties[i], demand_locations[j])\n",
    "\n",
    "    Tz = np.zeros((demand_cnt, len(candidate_facilties)))\n",
    "    for i in range(demand_cnt):\n",
    "        for j in range(len(candidate_facilties)):\n",
    "            Tz[i, j] = get_time(demand_locations[i], candidate_facilties[j])\n",
    "\n",
    "    #Locations\n",
    "    with open('inputs/info.json', 'w') as f:\n",
    "        json.dump({\"factories\": candidate_facilties, \"demands\": demand_locations}, f)\n",
    "    return Tx, Ty, Tz\n"
   ]
  },
  {
   "cell_type": "code",
   "execution_count": null,
   "metadata": {},
   "outputs": [],
   "source": [
    "Tx, Ty, Tz = get_data(size)\n",
    "\n",
    "pd.DataFrame(Tx).to_csv('inputs/Tx.csv', index=True)\n",
    "pd.DataFrame(Ty).to_csv('inputs/Ty.csv', index=True)\n",
    "pd.DataFrame(Tz).to_csv('inputs/Tz.csv', index=True)"
   ]
  },
  {
   "cell_type": "code",
   "execution_count": null,
   "metadata": {},
   "outputs": [],
   "source": []
  }
 ],
 "metadata": {
  "kernelspec": {
   "display_name": "Python 3",
   "language": "python",
   "name": "python3"
  },
  "language_info": {
   "codemirror_mode": {
    "name": "ipython",
    "version": 3
   },
   "file_extension": ".py",
   "mimetype": "text/x-python",
   "name": "python",
   "nbconvert_exporter": "python",
   "pygments_lexer": "ipython3",
   "version": "3.11.1"
  }
 },
 "nbformat": 4,
 "nbformat_minor": 2
}
