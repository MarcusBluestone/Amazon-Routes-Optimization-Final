{
 "cells": [
  {
   "cell_type": "markdown",
   "metadata": {},
   "source": [
    "Need to Return Candidate Facility Locations, Demand Locations, and times between everything"
   ]
  },
  {
   "cell_type": "code",
   "execution_count": null,
   "metadata": {},
   "outputs": [],
   "source": [
    "import random\n",
    "import numpy as np\n"
   ]
  },
  {
   "cell_type": "code",
   "execution_count": 34,
   "metadata": {},
   "outputs": [],
   "source": [
    "size = 10\n",
    "demand_cnt = 10\n",
    "\n",
    "def get_time(loc1, loc2):\n",
    "    return abs(loc1[0]  - loc2[0]) + abs(loc1[1]  - loc2[1])\n",
    "\n",
    "def get_data(size):\n",
    "    grid = np.zeros((size, size))\n",
    "    demand_locations = set()\n",
    "\n",
    "    while len(demand_locations) < demand_cnt:\n",
    "        rand_row, rand_col = random.choice(range(size)), random.choice(range(size))\n",
    "        demand_locations.add((rand_row, rand_col))\n",
    "        grid[rand_row, rand_col] = 1\n",
    "    \n",
    "    candidate_facilties = []\n",
    "    for i in range(size):\n",
    "        for j in range(size):\n",
    "            if grid[i,j] == 0:\n",
    "                candidate_facilties.append((i,j))\n",
    "\n",
    "    demand_locations = list(demand_locations)\n",
    "\n",
    "    Tx = np.zeros((demand_cnt, demand_cnt))\n",
    "    for j1 in range(demand_cnt):\n",
    "        for j2 in range(demand_cnt):\n",
    "            Tx[j1, j2] = get_time(demand_locations[j1], demand_locations[j2])\n",
    "\n",
    "    Ty = np.zeros((len(candidate_facilties), demand_cnt))\n",
    "    for i in range(len(candidate_facilties)):\n",
    "        for j in range(demand_cnt):\n",
    "            Ty[i, j] = get_time(candidate_facilties[i], demand_locations[j])\n",
    "\n",
    "    Tz = np.zeros((demand_cnt, len(candidate_facilties)))\n",
    "    for i in range(demand_cnt):\n",
    "        for j in range(len(candidate_facilties)):\n",
    "            Tz[i, j] = get_time(demand_locations[i], candidate_facilties[j])\n",
    "\n",
    "    return Tx, Ty, Tz\n",
    "\n",
    "    \n",
    "\n"
   ]
  },
  {
   "cell_type": "code",
   "execution_count": 38,
   "metadata": {},
   "outputs": [
    {
     "name": "stdout",
     "output_type": "stream",
     "text": [
      "(10, 10) (90, 10) (10, 90)\n"
     ]
    },
    {
     "data": {
      "text/plain": [
       "array([[ 0.,  7.,  3.,  6.,  7.,  5.,  7.,  7.,  4.,  5.],\n",
       "       [ 7.,  0.,  6.,  7., 14.,  6., 14., 14.,  7., 10.],\n",
       "       [ 3.,  6.,  0.,  9.,  8.,  2.,  8.,  8.,  1.,  4.],\n",
       "       [ 6.,  7.,  9.,  0.,  7., 11.,  7.,  7., 10., 11.],\n",
       "       [ 7., 14.,  8.,  7.,  0.,  8.,  6.,  4.,  7.,  4.],\n",
       "       [ 5.,  6.,  2., 11.,  8.,  0., 10.,  8.,  1.,  4.],\n",
       "       [ 7., 14.,  8.,  7.,  6., 10.,  0.,  2.,  9., 10.],\n",
       "       [ 7., 14.,  8.,  7.,  4.,  8.,  2.,  0.,  7.,  8.],\n",
       "       [ 4.,  7.,  1., 10.,  7.,  1.,  9.,  7.,  0.,  3.],\n",
       "       [ 5., 10.,  4., 11.,  4.,  4., 10.,  8.,  3.,  0.]])"
      ]
     },
     "execution_count": 38,
     "metadata": {},
     "output_type": "execute_result"
    }
   ],
   "source": [
    "Tx, Ty, Tz = get_data(size)\n",
    "print(Tx.shape, Ty.shape, Tz.shape)\n",
    "Tx"
   ]
  },
  {
   "cell_type": "code",
   "execution_count": null,
   "metadata": {},
   "outputs": [],
   "source": []
  }
 ],
 "metadata": {
  "kernelspec": {
   "display_name": "Python 3",
   "language": "python",
   "name": "python3"
  },
  "language_info": {
   "codemirror_mode": {
    "name": "ipython",
    "version": 3
   },
   "file_extension": ".py",
   "mimetype": "text/x-python",
   "name": "python",
   "nbconvert_exporter": "python",
   "pygments_lexer": "ipython3",
   "version": "3.11.1"
  }
 },
 "nbformat": 4,
 "nbformat_minor": 2
}
