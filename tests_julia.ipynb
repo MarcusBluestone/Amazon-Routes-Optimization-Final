{
 "cells": [
  {
   "cell_type": "code",
   "execution_count": null,
   "metadata": {},
   "outputs": [],
   "source": [
    "using JuMP\n",
    "using Gurobi\n",
    "using CSV\n",
    "using DataFrames\n",
    "using Plots"
   ]
  },
  {
   "cell_type": "code",
   "execution_count": 4,
   "metadata": {},
   "outputs": [
    {
     "data": {
      "text/plain": [
       "filter_distance_matrix (generic function with 1 method)"
      ]
     },
     "execution_count": 4,
     "metadata": {},
     "output_type": "execute_result"
    }
   ],
   "source": [
    "N = 4356\n",
    "Tx = CSV.read(\"real_distances/drop_distance_matrix.csv\", DataFrame, drop=1:1)[1:N, 1:N] |> Matrix #N, N\n",
    "Ty = CSV.read(\"real_distances/distance_matrix_store_to_drop.csv\",DataFrame, drop=1:1)[:, 1:N] |> Matrix; #M, N\n",
    "Tz = CSV.read(\"real_distances/drop_to_store_distance_matrix.csv\",DataFrame, drop=1:1)[1:N, :] |> Matrix; #N, M\n",
    "\n",
    "function filter_distance_matrix(matrix, threshold)\n",
    "    M, N = size(matrix)\n",
    "    filtered_edges = Dict()  # Initialize an empty dictionary\n",
    "\n",
    "    for i in 1:M\n",
    "        for j in 1:N\n",
    "            if matrix[i, j] <= threshold\n",
    "                # Store the distance value with the key as the (i, j) tuple\n",
    "                filtered_edges[(i, j)] = matrix[i, j]\n",
    "            end\n",
    "        end\n",
    "    end\n",
    "\n",
    "    return filtered_edges\n",
    "end"
   ]
  },
  {
   "cell_type": "code",
   "execution_count": 14,
   "metadata": {},
   "outputs": [
    {
     "name": "stdout",
     "output_type": "stream",
     "text": [
      "0.51.01.52.02.53.03.54.04.55.05.56.06.57.07.58.08.59.09.510.010.511.011.512.012.513.013.514.014.515.015.516.016.517.017.518.018.519.019.520.020.521.021.522.022.523.023.524.024.525.0"
     ]
    }
   ],
   "source": [
    "x = []\n",
    "y = [] \n",
    "z = []\n",
    "for d in range(.5, step=0.5, length=50)\n",
    "    println(d)\n",
    "    filtered_Tx = filter_distance_matrix(Tx, d)\n",
    "    filtered_Ty = filter_distance_matrix(Ty, d)\n",
    "    filtered_Tz = filter_distance_matrix(Tz, d)\n",
    "    push!(x, length(keys(filtered_Tx)))\n",
    "    push!(y, length(keys(filtered_Ty)))\n",
    "    push!(z, length(keys(filtered_Tz)))\n",
    "\n",
    "end"
   ]
  },
  {
   "cell_type": "code",
   "execution_count": 23,
   "metadata": {},
   "outputs": [
    {
     "data": {
      "text/plain": [
       "\"/Users/marcusbluestone/Documents/GitHub/Optimization-Final-6.C657-/counts.png\""
      ]
     },
     "execution_count": 23,
     "metadata": {},
     "output_type": "execute_result"
    }
   ],
   "source": [
    "plot(x, label=\"Demand-Demand\", lw=2, marker=:circle, color=:blue)\n",
    "plot!(y, label=\"Factory->Demand\", lw=2, marker=:square, color=:green)\n",
    "plot!(z, label=\"Demand->Factory\", lw=2, marker=:diamond, color=:red)\n",
    "ylabel!(\"Number of Edges\")\n",
    "xlabel!(\"Threshold\")\n",
    "savefig(\"counts.png\")\n",
    "\n"
   ]
  },
  {
   "cell_type": "code",
   "execution_count": null,
   "metadata": {},
   "outputs": [],
   "source": []
  }
 ],
 "metadata": {
  "kernelspec": {
   "display_name": "Julia 1.10.5",
   "language": "julia",
   "name": "julia-1.10"
  },
  "language_info": {
   "file_extension": ".jl",
   "mimetype": "application/julia",
   "name": "julia",
   "version": "1.10.5"
  }
 },
 "nbformat": 4,
 "nbformat_minor": 2
}
